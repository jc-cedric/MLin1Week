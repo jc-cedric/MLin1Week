{
 "cells": [
  {
   "cell_type": "code",
   "execution_count": 2,
   "id": "ccc8acfe",
   "metadata": {},
   "outputs": [],
   "source": [
    "def distance_freinage(vitesse):\n",
    "    arret = vitesse * 3 /10\n",
    "    return arret"
   ]
  },
  {
   "cell_type": "code",
   "execution_count": null,
   "id": "256af153",
   "metadata": {},
   "outputs": [],
   "source": []
  }
 ],
 "metadata": {
  "kernelspec": {
   "display_name": "Python 3",
   "language": "python",
   "name": "python3"
  },
  "language_info": {
   "codemirror_mode": {
    "name": "ipython",
    "version": 3
   },
   "file_extension": ".py",
   "mimetype": "text/x-python",
   "name": "python",
   "nbconvert_exporter": "python",
   "pygments_lexer": "ipython3",
   "version": "3.8.8"
  }
 },
 "nbformat": 4,
 "nbformat_minor": 5
}
